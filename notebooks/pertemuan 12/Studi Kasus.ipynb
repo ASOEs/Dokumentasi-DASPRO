{
    "cells": [
        {
            "cell_type": "markdown",
            "metadata": {},
            "source": [
                "# Studi kasus "
            ]
        },
        {
            "cell_type": "markdown",
            "metadata": {},
            "source": [
                "1. Sebuah toko memiliki stok barang yang tersedia. Buatlah program Python untuk mencari apakah\n",
                "suatu barang tersedia dalam stok toko.. (Buatlah array dummy dimana jumlah elemen ada 15 barang)"
            ]
        },
        {
            "cell_type": "code",
            "execution_count": 6,
            "metadata": {},
            "outputs": [
                {
                    "name": "stdout",
                    "output_type": "stream",
                    "text": [
                        "barang yang di cari : ayam berada pada index 11\n"
                    ]
                }
            ],
            "source": [
                "def linear(list,target):\n",
                "    for i in range(len(list)):\n",
                "        if list[i] == target:\n",
                "            return i\n",
                "    return -1\n",
                "\n",
                "list_barang = [\"tepu\",\"gula\", \"beras\", \"mentega\", \"minyak\", \"telur\",\"kacang\",\"teri\",\"bumbu\",\"cabe\",\"bawang\",\"ayam\",\"sapi\",\"Beras Merah\",\"Kentang\"]\n",
                "cari_barang = linear(list_barang,\"ayam\")\n",
                "\n",
                "print(f\"barang yang di cari : {list_barang[-4]} berada pada index {cari_barang}\")\n"
            ]
        },
        {
            "cell_type": "markdown",
            "metadata": {},
            "source": [
                "2. Universitas Pendidikan Indonesia memiliki daftar mahasiswa yang terdaftar di prodi RPL. Buatlah\n",
                "program Python untuk mencari apakah nama seorang mahasiswa tertentu ada dalam daftar\n",
                "tersebut? (Buat nama tersebut berdasarkan inputan dari user dan buat array dummy 20 elemen untuk\n",
                "daftar nama mahasiswanya)"
            ]
        },
        {
            "cell_type": "code",
            "execution_count": 12,
            "metadata": {},
            "outputs": [
                {
                    "name": "stdout",
                    "output_type": "stream",
                    "text": [
                        "Mahasiswa ada\n"
                    ]
                }
            ],
            "source": [
                "def linear(list,target):\n",
                "    found = False\n",
                "    for i in range(len(list)):\n",
                "        if list[i] == target:\n",
                "            found = True\n",
                "    return found\n",
                "\n",
                "mahasiswa = [\"ahmad\",\"arul\",\"shandy\",\"rafi\",\"zam\",\"ase\",\"andika\",\"fatra\",\"mahesa\",\"ghaisan\",\"alwan\",\"padli\",\"aje\",\"gregorius\",\"fadel\",\"mutia\",\"rahma\",\"silva\",\"nidda\",\"nay\"]\n",
                "nama_mahasiswa = input(\"masukan nama mahasiswa nya : \")\n",
                "cari_mahasiswa = linear(mahasiswa,nama_mahasiswa)\n",
                "if cari_mahasiswa == True:\n",
                "    print(f\"Mahasiswa ada\")\n",
                "if cari_mahasiswa == False:\n",
                "    print(f\"Mahasiswa tidak ada\")"
            ]
        },
        {
            "cell_type": "markdown",
            "metadata": {},
            "source": [
                "3. Dari algoritma Linear Search dan Binary Search yang telah Anda pelajari, buatlah perbandingan\n",
                "running program (execution time) dengan 2 algoritma tersebut. Buatlah dengan menggunakan\n",
                "sortedArray berikut:\n",
                "array = [1, 2, 5, 7, 8, 10, 16, 18, 19, 23, 24, 26, 28, 29, 32, 33, 34, 35, 36, 38, 40, 41, 42, 43, 44, 46, 48, 49, 51, 55, 57,\n",
                "58, 59, 60, 63, 65, 66, 69, 74, 75, 76, 77, 78, 79, 81, 82, 85, 90, 93, 100]\n",
                "Tentukan manakah dari ke 2 algoritma tersebut yang paling cepat untuk mencari nilai 60?"
            ]
        },
        {
            "cell_type": "code",
            "execution_count": 15,
            "metadata": {},
            "outputs": [
                {
                    "name": "stdout",
                    "output_type": "stream",
                    "text": [
                        "data ada pada index 33\n",
                        "runtime nya adalah 4.25e-05 detik\n"
                    ]
                }
            ],
            "source": [
                "import time as tm\n",
                "def binary_Search(arr,target):\n",
                "    low, high = 0, len(arr) - 1\n",
                "    while low <= high:\n",
                "        mid = (low + high) // 2\n",
                "        if arr[mid] == target:\n",
                "            return mid\n",
                "        if arr[mid] < target:\n",
                "            low = mid + 1\n",
                "        else:\n",
                "            high = mid - 1\n",
                "    return -1\n",
                "\n",
                "list_1 = [1, 2, 5, 7, 8, 10, 16, 18, 19, 23, 24, 26, 28, 29, 32, 33, 34, 35, 36, 38, 40, 41, 42, 43, 44, 46, 48, 49, 51, 55, 57,\n",
                "58, 59, 60, 63, 65, 66, 69, 74, 75, 76, 77, 78, 79, 81, 82, 85, 90, 93, 100]\n",
                "\n",
                "mulai = tm.perf_counter()\n",
                "hasil = binary_Search(list_1,60)\n",
                "akhir = tm.perf_counter()\n",
                "waktu = akhir - mulai\n",
                "\n",
                "if hasil != -1:\n",
                "    print(f\"data ada pada index {hasil}\")\n",
                "else :\n",
                "    print(\"data tidak ada\")\n",
                "\n",
                "print(f\"runtime nya adalah {waktu:.3} detik\")"
            ]
        },
        {
            "cell_type": "code",
            "execution_count": 16,
            "metadata": {},
            "outputs": [
                {
                    "name": "stdout",
                    "output_type": "stream",
                    "text": [
                        "data ada pada index 33\n",
                        "runtime nya adalah 7.33e-05 detik\n"
                    ]
                }
            ],
            "source": [
                "def linear(arr,target):\n",
                "    for i in range(len(arr)):\n",
                "        if arr[i] == target:\n",
                "            return i\n",
                "    return -1\n",
                "\n",
                "list_1 = [1, 2, 5, 7, 8, 10, 16, 18, 19, 23, 24, 26, 28, 29, 32, 33, 34, 35, 36, 38, 40, 41, 42, 43, 44, 46, 48, 49, 51, 55, 57,\n",
                "58, 59, 60, 63, 65, 66, 69, 74, 75, 76, 77, 78, 79, 81, 82, 85, 90, 93, 100]\n",
                "\n",
                "mulai = tm.perf_counter()\n",
                "hasil = linear(list_1,60)\n",
                "akhir = tm.perf_counter()\n",
                "waktu = akhir - mulai\n",
                "\n",
                "if hasil != -1:\n",
                "    print(f\"data ada pada index {hasil}\")\n",
                "else :\n",
                "    print(\"data tidak ada\")\n",
                "\n",
                "print(f\"runtime nya adalah {waktu:.3} detik\")"
            ]
        }
    ],
    "metadata": {
        "kernelspec": {
            "display_name": "Python 3",
            "language": "python",
            "name": "python3"
        },
        "language_info": {
            "codemirror_mode": {
                "name": "ipython",
                "version": 3
            },
            "file_extension": ".py",
            "mimetype": "text/x-python",
            "name": "python",
            "nbconvert_exporter": "python",
            "pygments_lexer": "ipython3",
            "version": "3.10.13"
        }
    },
    "nbformat": 4,
    "nbformat_minor": 2
}
