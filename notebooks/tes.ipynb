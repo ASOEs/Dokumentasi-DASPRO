{
 "cells": [
  {
   "cell_type": "markdown",
   "metadata": {},
   "source": [
    "# Belajar squece searching"
   ]
  },
  {
   "cell_type": "markdown",
   "metadata": {},
   "source": [
    "Sequential search adalah algoritma pencarian nilai tertentu dalam sebuah list. Algoritma pencarian ini melibatkan pemeriksaan nilai elemen pada list satu demi satu dari ujung list. Karena mekanisme kerjanya, algoritma ini juga dikenal juga dengan nama lain linear search.\n"
   ]
  },
  {
   "cell_type": "code",
   "execution_count": 1,
   "metadata": {},
   "outputs": [
    {
     "name": "stdout",
     "output_type": "stream",
     "text": [
      "True\n"
     ]
    }
   ],
   "source": [
    "def squence(list,target):\n",
    "    found = False\n",
    "    for i in range(len(list)):\n",
    "        if list[i] == target:\n",
    "            found = True\n",
    "            break\n",
    "    return found\n",
    "\n",
    "ketemu = squence([10,22,4,55,32,12],4)\n",
    "print(ketemu)"
   ]
  },
  {
   "cell_type": "markdown",
   "metadata": {},
   "source": [
    "Fungsi sequential_search() menerima dua argumen: list dan target. List adalah list yang akan dicari, sedangkan target adalah nilai yang akan dicari. Fungsi ini menggunakan loop for untuk memeriksa setiap elemen dalam list. Jika elemen tersebut sama dengan target, maka fungsi ini akan mengembalikan nilai True. Jika elemen tersebut tidak sama dengan target, maka fungsi ini akan terus memeriksa elemen berikutnya. Jika semua elemen dalam list telah diperiksa dan tidak ada yang sama dengan target, maka fungsi ini akan mengembalikan nilai False."
   ]
  }
 ],
 "metadata": {
  "kernelspec": {
   "display_name": "Python 3",
   "language": "python",
   "name": "python3"
  },
  "language_info": {
   "codemirror_mode": {
    "name": "ipython",
    "version": 3
   },
   "file_extension": ".py",
   "mimetype": "text/x-python",
   "name": "python",
   "nbconvert_exporter": "python",
   "pygments_lexer": "ipython3",
   "version": "3.10.13"
  },
  "orig_nbformat": 4
 },
 "nbformat": 4,
 "nbformat_minor": 2
}
