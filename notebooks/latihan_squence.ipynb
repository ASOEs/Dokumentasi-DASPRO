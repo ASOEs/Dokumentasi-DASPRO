{
 "cells": [
  {
   "cell_type": "markdown",
   "metadata": {},
   "source": [
    "## latihan mencari nama mahasiswa"
   ]
  },
  {
   "cell_type": "markdown",
   "metadata": {},
   "source": [
    "list nama mahasiswa \n",
    "[\"Andi\", \"Budi\", \"Caca\", \"Dedi\", \"Edi\"]\n",
    "carilah andi di dalam list nama tersebut dengan menggunakan squence searching"
   ]
  },
  {
   "cell_type": "code",
   "execution_count": 7,
   "metadata": {},
   "outputs": [
    {
     "name": "stdout",
     "output_type": "stream",
     "text": [
      "Nama tersebut ada : 0\n"
     ]
    }
   ],
   "source": [
    "def search_nama(list,nama):\n",
    "    for i in range(len(list)):\n",
    "        if list[i] == nama:\n",
    "            return i\n",
    "    return -1\n",
    "\n",
    "list_nama = [\"Andi\", \"Budi\", \"Caca\", \"Dedi\", \"Edi\"]\n",
    "cari_nama = search_nama(list_nama,\"Andi\")\n",
    "print(f\"Nama tersebut ada : {cari_nama}\")"
   ]
  }
 ],
 "metadata": {
  "kernelspec": {
   "display_name": "Python 3",
   "language": "python",
   "name": "python3"
  },
  "language_info": {
   "codemirror_mode": {
    "name": "ipython",
    "version": 3
   },
   "file_extension": ".py",
   "mimetype": "text/x-python",
   "name": "python",
   "nbconvert_exporter": "python",
   "pygments_lexer": "ipython3",
   "version": "3.10.13"
  }
 },
 "nbformat": 4,
 "nbformat_minor": 2
}
